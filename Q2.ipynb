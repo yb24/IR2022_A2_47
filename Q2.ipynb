{
 "cells": [
  {
   "cell_type": "code",
   "execution_count": 1,
   "metadata": {},
   "outputs": [],
   "source": [
    "import pandas as pd\n",
    "import matplotlib.pyplot as plt\n",
    "import numpy as np\n",
    "import math"
   ]
  },
  {
   "cell_type": "code",
   "execution_count": 2,
   "metadata": {},
   "outputs": [],
   "source": [
    "path = r'Dataset/IR-assignment-2-data.txt'"
   ]
  },
  {
   "cell_type": "code",
   "execution_count": 3,
   "metadata": {},
   "outputs": [],
   "source": [
    "file = open(path)"
   ]
  },
  {
   "cell_type": "markdown",
   "metadata": {},
   "source": [
    "### total number of files"
   ]
  },
  {
   "cell_type": "code",
   "execution_count": 4,
   "metadata": {},
   "outputs": [],
   "source": [
    "rel_score_list = []\n",
    "res = []"
   ]
  },
  {
   "cell_type": "code",
   "execution_count": 5,
   "metadata": {},
   "outputs": [],
   "source": [
    "# only qid:4 is extracted and stores values of relevance score in rel_score_list and stores complete row in res.\n",
    "for l in file:\n",
    "    lines = l.split()\n",
    "    if (lines[1] == 'qid:4'):\n",
    "        rel_score_list.append(lines[0])\n",
    "        res.append(lines)"
   ]
  },
  {
   "cell_type": "code",
   "execution_count": 6,
   "metadata": {},
   "outputs": [],
   "source": [
    "# sort the result in max DCG order\n",
    "df_arrange = res.sort(reverse = True)"
   ]
  },
  {
   "cell_type": "code",
   "execution_count": 7,
   "metadata": {},
   "outputs": [],
   "source": [
    "# calculate total number of files\n",
    "rel_score_count = {}\n",
    "for val in rel_score_list:\n",
    "    c = 0\n",
    "    for lists in res:\n",
    "        if (lists[0] == val):\n",
    "            c = c + 1\n",
    "    rel_score_count[val] = c"
   ]
  },
  {
   "cell_type": "code",
   "execution_count": 8,
   "metadata": {},
   "outputs": [],
   "source": [
    "#print(rel_score_count)"
   ]
  },
  {
   "cell_type": "code",
   "execution_count": 9,
   "metadata": {},
   "outputs": [],
   "source": [
    "tot_files = 1\n",
    "for k in rel_score_count.keys():\n",
    "    tot_files = tot_files * math.factorial(rel_score_count[k])"
   ]
  },
  {
   "cell_type": "code",
   "execution_count": 10,
   "metadata": {},
   "outputs": [
    {
     "name": "stdout",
     "output_type": "stream",
     "text": [
      "19893497375938370599826047614905329896936840170566570588205180312704857992695193482412686565431050240000000000000000000000\n"
     ]
    }
   ],
   "source": [
    "print(tot_files)"
   ]
  },
  {
   "cell_type": "markdown",
   "metadata": {},
   "source": [
    "### Calculate nDCG"
   ]
  },
  {
   "cell_type": "code",
   "execution_count": 11,
   "metadata": {},
   "outputs": [],
   "source": [
    "df = pd.read_csv(\"Dataset/IR-assignment-2-data.txt\", sep = ' ', header = None)"
   ]
  },
  {
   "cell_type": "code",
   "execution_count": 12,
   "metadata": {},
   "outputs": [],
   "source": [
    "df_res = df[df[1] == 'qid:4']\n",
    "df_sort = df_res.sort_values(by = 0, ascending = False)\n",
    "df_sort = df_sort.reset_index(drop = True)"
   ]
  },
  {
   "cell_type": "code",
   "execution_count": 13,
   "metadata": {},
   "outputs": [],
   "source": [
    "def calDCG(df, k):\n",
    "    dcg_res = 0\n",
    "    for i in range(1, k+1):\n",
    "        dcg_res = dcg_res + (pow(2, df[0][i-1]) - 1)/(np.log2(i+1))\n",
    "    return dcg_res"
   ]
  },
  {
   "cell_type": "code",
   "execution_count": 14,
   "metadata": {},
   "outputs": [
    {
     "name": "stdout",
     "output_type": "stream",
     "text": [
      "nDCG at 50: 0.35612494416255847\n",
      "nDCG for whole dataset: 0.5784691984582591\n"
     ]
    }
   ],
   "source": [
    "print(\"nDCG at 50:\",calDCG(df_res,50)/calDCG(df_sort,50))\n",
    "print(\"nDCG for whole dataset:\",calDCG(df_res,len(df_res))/calDCG(df_sort,len(df_res)))"
   ]
  },
  {
   "cell_type": "markdown",
   "metadata": {},
   "source": [
    "### Precision-Recall Graph"
   ]
  },
  {
   "cell_type": "code",
   "execution_count": 15,
   "metadata": {},
   "outputs": [],
   "source": [
    "file = open(path)\n",
    "rel_doc = 0\n",
    "data_list = []"
   ]
  },
  {
   "cell_type": "code",
   "execution_count": 16,
   "metadata": {},
   "outputs": [],
   "source": [
    "for l in file:\n",
    "    lines = l.split()\n",
    "    if (lines[1] == 'qid:4'):\n",
    "        feature75 = lines[76].split(\":\")[1]\n",
    "        if(lines[0] == '0'):                         # if the rel score is 0 then not counted in rel_doc\n",
    "            data_list.append([0, float(feature75)])\n",
    "        else:\n",
    "            data_list.append([1, float(feature75)]) \n",
    "            rel_doc = rel_doc + 1                  # counted as rel_doc when rel score is not 0"
   ]
  },
  {
   "cell_type": "code",
   "execution_count": 17,
   "metadata": {},
   "outputs": [],
   "source": [
    "# sort the list in the reverse order to plot graph\n",
    "data_list = sorted(data_list, key = lambda k:k[1], reverse = True) \n",
    "#print(data_list)"
   ]
  },
  {
   "cell_type": "code",
   "execution_count": 18,
   "metadata": {},
   "outputs": [],
   "source": [
    "c = 1\n",
    "precision = []\n",
    "recall = []\n",
    "correct_relevant = 0\n",
    "\n",
    "for i in range(len(data_list)):\n",
    "    precision.append(correct_relevant/c) # precision formula append\n",
    "    recall.append(correct_relevant/ rel_doc) # recall formula append\n",
    "    l = data_list[i]\n",
    "    if (l[0] == 1):                        # doc is rightly classified when the value is 1\n",
    "        correct_relevant = correct_relevant + 1\n",
    "    c = c + 1  "
   ]
  },
  {
   "cell_type": "code",
   "execution_count": 19,
   "metadata": {},
   "outputs": [
    {
     "data": {
      "image/png": "[encoded data removed]",
      "text/plain": [
       "<Figure size 432x288 with 1 Axes>"
      ]
     },
     "metadata": {
      "needs_background": "light"
     },
     "output_type": "display_data"
    }
   ],
   "source": [
    "# Precision - Recall Graph\n",
    "plt.xlabel(\"PRECISION\")\n",
    "plt.ylabel(\"RECALL\")\n",
    "plt.title(\"Precison-Recall Curve\")\n",
    "plt.plot(recall, precision)\n",
    "plt.show();"
   ]
  }
 ],
 "metadata": {
  "kernelspec": {
   "display_name": "Python 3 (ipykernel)",
   "language": "python",
   "name": "python3"
  },
  "language_info": {
   "codemirror_mode": {
    "name": "ipython",
    "version": 3
   },
   "file_extension": ".py",
   "mimetype": "text/x-python",
   "name": "python",
   "nbconvert_exporter": "python",
   "pygments_lexer": "ipython3",
   "version": "3.7.4"
  }
 },
 "nbformat": 4,
 "nbformat_minor": 4
}
