{
 "cells": [
  {
   "cell_type": "code",
   "execution_count": 65,
   "metadata": {},
   "outputs": [],
   "source": [
    "import pandas as pd\n",
    "import numpy as np\n",
    "import string\n",
    "import os\n",
    "import re\n",
    "import pickle\n",
    "from sortedcontainers import SortedDict, SortedList, SortedSet\n",
    "from nltk.tokenize import word_tokenize\n",
    "from nltk.corpus import stopwords\n",
    "from nltk.stem.wordnet import WordNetLemmatizer\n",
    "from collections import Counter\n",
    "import operator"
   ]
  },
  {
   "cell_type": "code",
   "execution_count": 66,
   "metadata": {},
   "outputs": [],
   "source": [
    "def getListOfFiles(directory):\n",
    "    '''\n",
    "    Parameters:\n",
    "        directory: type(string)\n",
    "        \n",
    "    returns: list of all files in directory with the full path of file\n",
    "    '''\n",
    "    \n",
    "    list_of_files = []\n",
    "    \n",
    "    for file_path in os.listdir(directory):\n",
    "        full_path = os.path.join(directory, file_path)\n",
    "        if os.path.isfile(full_path):\n",
    "            list_of_files.append(full_path)\n",
    "    \n",
    "    return list_of_files"
   ]
  },
  {
   "cell_type": "code",
   "execution_count": 67,
   "metadata": {},
   "outputs": [],
   "source": [
    "def lowercase(data):\n",
    "    '''\n",
    "    Parameters:\n",
    "        data: type(string)\n",
    "    \n",
    "    returns: lowercase of data\n",
    "    '''\n",
    "    \n",
    "    return data.lower()"
   ]
  },
  {
   "cell_type": "code",
   "execution_count": 68,
   "metadata": {},
   "outputs": [],
   "source": [
    "def perform_word_tokenize(corpus):\n",
    "    '''\n",
    "    Parameters:\n",
    "        corpus: type(string)\n",
    "    \n",
    "    returns word-level tokenization of corpus\n",
    "    '''\n",
    "    \n",
    "    return word_tokenize(corpus)"
   ]
  },
  {
   "cell_type": "code",
   "execution_count": 69,
   "metadata": {},
   "outputs": [],
   "source": [
    "def remove_stopwords_from_tokens(tokens):\n",
    "    '''\n",
    "    Parameters:\n",
    "        tokens: type(list)\n",
    "        stopwords_set: type(set)\n",
    "    \n",
    "    returns: tokens without stopwords\n",
    "    '''\n",
    "    stopwords_set = set(stopwords.words('english'))\n",
    "    tokens_sans_stopwords = [x for x in tokens if x not in stopwords_set]\n",
    "    \n",
    "    return tokens_sans_stopwords"
   ]
  },
  {
   "cell_type": "code",
   "execution_count": 70,
   "metadata": {},
   "outputs": [],
   "source": [
    "def remove_punctuation_from_tokens(tokens):\n",
    "    '''\n",
    "    Parameters:\n",
    "        tokens: type(list)\n",
    "    \n",
    "    returns: tokens without punctuation\n",
    "    '''\n",
    "    tokens_sans_punctuation = [x.translate(str.maketrans('', '', string.punctuation)) for x in tokens]\n",
    "    \n",
    "    return tokens_sans_punctuation"
   ]
  },
  {
   "cell_type": "code",
   "execution_count": 71,
   "metadata": {},
   "outputs": [],
   "source": [
    "def remove_blank_space_tokens(tokens):\n",
    "    '''\n",
    "    Parameters:\n",
    "        tokens: type(list)\n",
    "    \n",
    "    returns: tokens without blank tokens\n",
    "    '''\n",
    "    tokens_sans_blank_space = [x for x in tokens if x!='']\n",
    "    \n",
    "    return tokens_sans_blank_space"
   ]
  },
  {
   "cell_type": "code",
   "execution_count": 72,
   "metadata": {},
   "outputs": [],
   "source": [
    "def preprocess(corpus):\n",
    "    # Convert the text to lower case\n",
    "    lowercase_corpus = lowercase(corpus)\n",
    "    #print(len(lowercase_corpus))\n",
    "    \n",
    "    # Perform word tokenization (word_tokenize also takes care of whitespace)\n",
    "    word_tokens = perform_word_tokenize(lowercase_corpus)\n",
    "    #print(len(word_tokens))\n",
    "    \n",
    "    # Remove stopwords from tokens\n",
    "    word_tokens_sans_stopwords = remove_stopwords_from_tokens(word_tokens)\n",
    "    #print(len(word_tokens_sans_stopwords))\n",
    "    \n",
    "    # Remove punctuation marks from tokens\n",
    "    word_tokens_sans_punctuation = remove_punctuation_from_tokens(word_tokens_sans_stopwords)\n",
    "    #print(len(word_tokens_sans_punctuation))\n",
    "    \n",
    "    # Remove blank space tokens\n",
    "    word_tokens_sans_blank_tokens = remove_blank_space_tokens(word_tokens_sans_punctuation)\n",
    "    #print(len(word_tokens_sans_blank_tokens))\n",
    "    \n",
    "    return set(word_tokens_sans_blank_tokens)"
   ]
  },
  {
   "cell_type": "code",
   "execution_count": 73,
   "metadata": {},
   "outputs": [],
   "source": [
    "# Get List of Files in Dataset\n",
    "list_of_files = getListOfFiles(\"C:/Users/kadia/OneDrive/Desktop/IIITD/II Semester/IR/Assignment 1/Humor,Hist,Media,Food/Humor,Hist,Media,Food\")\n",
    "#print(list_of_files)"
   ]
  },
  {
   "cell_type": "code",
   "execution_count": 74,
   "metadata": {},
   "outputs": [
    {
     "data": {
      "text/plain": [
       "1137"
      ]
     },
     "execution_count": 74,
     "metadata": {},
     "output_type": "execute_result"
    }
   ],
   "source": [
    "len(list_of_files)"
   ]
  },
  {
   "cell_type": "code",
   "execution_count": 75,
   "metadata": {},
   "outputs": [],
   "source": [
    "process = []\n",
    "for i,filePath in enumerate (list_of_files):\n",
    "        file = open(filePath, encoding=\"utf8\", errors = \"ignore\")\n",
    "        read = file.read()    \n",
    "        file.close()\n",
    "        \n",
    "        sanitized_query = preprocess(read)  \n",
    "        process.append(sanitized_query)"
   ]
  },
  {
   "cell_type": "code",
   "execution_count": 76,
   "metadata": {},
   "outputs": [],
   "source": [
    "natural_term_frequency = []\n",
    "for item in process:\n",
    "    dictionary_tf ={}\n",
    "    \n",
    "    for word in item:\n",
    "        if dictionary_tf.get(word) == None:\n",
    "            dictionary_tf[word] = 1\n",
    "        else:\n",
    "            count = dictionary_tf.get(word)\n",
    "            count += 1\n",
    "            dictionary_tf[word] = count\n",
    "    \n",
    "    natural_term_frequency.append(dictionary_tf)"
   ]
  },
  {
   "cell_type": "code",
   "execution_count": 89,
   "metadata": {},
   "outputs": [],
   "source": [
    "# Logarithmic Term Frequency = 1 + log(tf)\n",
    "\n",
    "logarithmic_term_frequency = []\n",
    "\n",
    "for item in natural_term_frequency:\n",
    "    dictionary_ltf = {}\n",
    "    allkeys = item.keys()\n",
    "    \n",
    "    for word in allkeys:\n",
    "        natural_freq = item.get(word)\n",
    "        log_freq = 1 + np.log(natural_freq)\n",
    "        dictionary_ltf[word] = log_freq\n",
    "        \n",
    "    logarithmic_term_frequency.append(dictionary_ltf)\n",
    "        "
   ]
  },
  {
   "cell_type": "code",
   "execution_count": 90,
   "metadata": {},
   "outputs": [],
   "source": [
    "document_frequency = {}\n",
    "\n",
    "for item in process:\n",
    "    \n",
    "    unique_terms = list(set(item))\n",
    "    \n",
    "    for word in unique_terms:\n",
    "        \n",
    "        if document_frequency.get(word) == None:\n",
    "            document_frequency[word] = 1\n",
    "        else:\n",
    "            count = document_frequency.get(word)\n",
    "            count += 1\n",
    "            document_frequency[word] = count"
   ]
  },
  {
   "cell_type": "code",
   "execution_count": 91,
   "metadata": {},
   "outputs": [
    {
     "name": "stdout",
     "output_type": "stream",
     "text": [
      "83917\n",
      "Total Number of documents are 1137\n"
     ]
    }
   ],
   "source": [
    "print(len(document_frequency))\n",
    "N = len(list_of_files)\n",
    "print('Total Number of documents are',N)"
   ]
  },
  {
   "cell_type": "code",
   "execution_count": 92,
   "metadata": {},
   "outputs": [],
   "source": [
    "inverse_document_frequency = {}\n",
    "\n",
    "keys_df = document_frequency.keys()\n",
    "\n",
    "for item in keys_df:\n",
    "    \n",
    "    getvalue = document_frequency[item]\n",
    "    in_doc_freq = np.log(5/getvalue)\n",
    "    inverse_document_frequency[item] = in_doc_freq"
   ]
  },
  {
   "cell_type": "code",
   "execution_count": 93,
   "metadata": {},
   "outputs": [],
   "source": [
    "list_return = []\n",
    "\n",
    "for item in natural_term_frequency:\n",
    "    dict_inside = {}\n",
    "    allkeys = item.keys()\n",
    "    \n",
    "    for word in allkeys:\n",
    "        current_freq = item[word]\n",
    "        idf_for_word = inverse_document_frequency[word]\n",
    "        update_freq = current_freq * idf_for_word\n",
    "        dict_inside[word] = update_freq\n",
    "    \n",
    "    list_return.append(dict_inside)"
   ]
  },
  {
   "cell_type": "code",
   "execution_count": 94,
   "metadata": {},
   "outputs": [],
   "source": [
    "#Function block for calculating TF-IDF\n",
    "\n",
    "def calculate_tfidf(list_tf):\n",
    "    list_return = []\n",
    "    \n",
    "    for item in list_tf:\n",
    "        dict_inside = {}\n",
    "        allkeys = item.keys()\n",
    "        \n",
    "        for word in allkeys:\n",
    "            current_freq = item[word]\n",
    "            idf_for_word = inverse_document_frequency[word]\n",
    "            update_freq = current_freq * idf_for_word\n",
    "            dict_inside[word] = update_freq\n",
    "    \n",
    "        list_return.append(dict_inside)\n",
    "    # print(list_return)  \n",
    "    return list_return"
   ]
  },
  {
   "cell_type": "code",
   "execution_count": 103,
   "metadata": {},
   "outputs": [],
   "source": [
    "tfidf_n = calculate_tfidf(natural_term_frequency)\n",
    "tfidf_log = calculate_tfidf(logarithmic_term_frequency)"
   ]
  },
  {
   "cell_type": "code",
   "execution_count": 104,
   "metadata": {},
   "outputs": [],
   "source": [
    "def getRankdoc(variant_list,query_list):\n",
    "    \n",
    "    doc_rank = {}\n",
    "    for i in range(N):\n",
    "        doc_rank[i] = 0.0\n",
    "        \n",
    "    for query_word in query_list:\n",
    "        count = -1\n",
    "        for item in variant_list:\n",
    "            count += 1\n",
    "            if query_word in item :\n",
    "                score = item[query_word]\n",
    "                doc_rank[count] += score\n",
    "                \n",
    "    doc_rank = dict(sorted(doc_rank.items(),key=operator.itemgetter(1),reverse=True))   \n",
    "    # print(doc_rank)        \n",
    "    \n",
    "    return doc_rank"
   ]
  },
  {
   "cell_type": "code",
   "execution_count": 105,
   "metadata": {},
   "outputs": [
    {
     "data": {
      "text/plain": [
       "1137"
      ]
     },
     "execution_count": 105,
     "metadata": {},
     "output_type": "execute_result"
    }
   ],
   "source": [
    "N"
   ]
  },
  {
   "cell_type": "code",
   "execution_count": 106,
   "metadata": {},
   "outputs": [],
   "source": [
    "def topk(list_tfidf,query_list,k,string):\n",
    "    \n",
    "    \n",
    "    list_tf = getRankdoc(list_tfidf,query_list)\n",
    "    count = -1\n",
    "    flag = 0\n",
    "    list_append = []\n",
    "    for item in list_tf.keys():\n",
    "        count += 1\n",
    "        if count == k:\n",
    "            print('Top ',k,' Documents based on ',string,' tf-idf are',list_append)\n",
    "            for i in list_append:\n",
    "                print(list_of_files[i])\n",
    "#                 print(titles[i])\n",
    "            flag = 1\n",
    "            break\n",
    "        list_append.append(item)\n",
    "        print(list_append)\n",
    "    \n",
    "    if flag == 0:\n",
    "        print('Top ',k,' Documents based on ',string,' tf-idf are:',list_append)    \n",
    "        for i in list_append:\n",
    "            print(list_of_files[i])\n",
    "            # print(titles[i])\n",
    "            \n",
    "    print()  "
   ]
  },
  {
   "cell_type": "code",
   "execution_count": 108,
   "metadata": {},
   "outputs": [],
   "source": [
    "def execute_two(query,k):\n",
    "    query_list =  preprocess(query)\n",
    "   # query_list = query_afterPreprocess.split(\" \")\n",
    "    # query_list.remove('')\n",
    "    # print(tfidf_n)\n",
    "    topk(tfidf_n,query_list,k,'Natural')\n",
    "    topk(tfidf_log,query_list,k,'Logarithmic')"
   ]
  },
  {
   "cell_type": "code",
   "execution_count": 109,
   "metadata": {},
   "outputs": [
    {
     "name": "stdout",
     "output_type": "stream",
     "text": [
      "Enter the String   : daily guests\n",
      "Enter how many closest matches required  : 5\n",
      "\n",
      "[1]\n",
      "[1, 2]\n",
      "[1, 2, 4]\n",
      "[1, 2, 4, 5]\n",
      "[1, 2, 4, 5, 8]\n",
      "Top  5  Documents based on  Natural  tf-idf are [1, 2, 4, 5, 8]\n",
      "C:/Users/kadia/OneDrive/Desktop/IIITD/II Semester/IR/Assignment 1/Humor,Hist,Media,Food/Humor,Hist,Media,Food\\a-team\n",
      "C:/Users/kadia/OneDrive/Desktop/IIITD/II Semester/IR/Assignment 1/Humor,Hist,Media,Food/Humor,Hist,Media,Food\\abbott.txt\n",
      "C:/Users/kadia/OneDrive/Desktop/IIITD/II Semester/IR/Assignment 1/Humor,Hist,Media,Food/Humor,Hist,Media,Food\\acetab1.txt\n",
      "C:/Users/kadia/OneDrive/Desktop/IIITD/II Semester/IR/Assignment 1/Humor,Hist,Media,Food/Humor,Hist,Media,Food\\aclamt.txt\n",
      "C:/Users/kadia/OneDrive/Desktop/IIITD/II Semester/IR/Assignment 1/Humor,Hist,Media,Food/Humor,Hist,Media,Food\\acronym.txt\n",
      "\n",
      "[1]\n",
      "[1, 2]\n",
      "[1, 2, 4]\n",
      "[1, 2, 4, 5]\n",
      "[1, 2, 4, 5, 8]\n",
      "Top  5  Documents based on  Logarithmic  tf-idf are [1, 2, 4, 5, 8]\n",
      "C:/Users/kadia/OneDrive/Desktop/IIITD/II Semester/IR/Assignment 1/Humor,Hist,Media,Food/Humor,Hist,Media,Food\\a-team\n",
      "C:/Users/kadia/OneDrive/Desktop/IIITD/II Semester/IR/Assignment 1/Humor,Hist,Media,Food/Humor,Hist,Media,Food\\abbott.txt\n",
      "C:/Users/kadia/OneDrive/Desktop/IIITD/II Semester/IR/Assignment 1/Humor,Hist,Media,Food/Humor,Hist,Media,Food\\acetab1.txt\n",
      "C:/Users/kadia/OneDrive/Desktop/IIITD/II Semester/IR/Assignment 1/Humor,Hist,Media,Food/Humor,Hist,Media,Food\\aclamt.txt\n",
      "C:/Users/kadia/OneDrive/Desktop/IIITD/II Semester/IR/Assignment 1/Humor,Hist,Media,Food/Humor,Hist,Media,Food\\acronym.txt\n",
      "\n"
     ]
    }
   ],
   "source": [
    "getInputtwo = input('Enter the String   : ')\n",
    "k = int(input('Enter how many closest matches required  : '))\n",
    "print()\n",
    "execute_two(getInputtwo,k)"
   ]
  },
  {
   "cell_type": "code",
   "execution_count": null,
   "metadata": {},
   "outputs": [],
   "source": [
    "#daily music television show with guests"
   ]
  }
 ],
 "metadata": {
  "kernelspec": {
   "display_name": "Python 3 (ipykernel)",
   "language": "python",
   "name": "python3"
  },
  "language_info": {
   "codemirror_mode": {
    "name": "ipython",
    "version": 3
   },
   "file_extension": ".py",
   "mimetype": "text/x-python",
   "name": "python",
   "nbconvert_exporter": "python",
   "pygments_lexer": "ipython3",
   "version": "3.7.4"
  }
 },
 "nbformat": 4,
 "nbformat_minor": 4
}
